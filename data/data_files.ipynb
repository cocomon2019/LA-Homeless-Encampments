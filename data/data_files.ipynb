{
 "cells": [
  {
   "cell_type": "code",
   "execution_count": 3,
   "metadata": {},
   "outputs": [],
   "source": [
    "#import denpendence\n",
    "import pandas as pd\n",
    "import os\n",
    "import matplotlib.pyplot as plt\n",
    "from glob import glob"
   ]
  },
  {
   "cell_type": "code",
   "execution_count": 4,
   "metadata": {},
   "outputs": [
    {
     "name": "stderr",
     "output_type": "stream",
     "text": [
      "C:\\Users\\joyce\\Anaconda3\\lib\\site-packages\\IPython\\core\\interactiveshell.py:3058: DtypeWarning: Columns (20) have mixed types. Specify dtype option on import or set low_memory=False.\n",
      "  interactivity=interactivity, compiler=compiler, result=result)\n"
     ]
    }
   ],
   "source": [
    "df = pd.read_csv(\"./full_datasets/MyLA311_Service_Request_Data_2016.csv\")\n",
    "\n",
    "files = [file for file in os.listdir('./full_datasets')]\n",
    "\n",
    "all_data = pd.DataFrame()\n",
    "\n",
    "for file in files:\n",
    "    df = pd.read_csv(\"./full_datasets/\"+file)\n",
    "    all_data = pd.concat([all_data, df])\n",
    "    \n",
    "#print the combined csv\n",
    "all_data.to_csv(\"all_data.csv\", index=False)"
   ]
  },
  {
   "cell_type": "code",
   "execution_count": 6,
   "metadata": {},
   "outputs": [
    {
     "data": {
      "text/plain": [
       "Index(['SRNumber', 'CreatedDate', 'UpdatedDate', 'ActionTaken', 'Owner',\n",
       "       'RequestType', 'Status', 'RequestSource', 'MobileOS', 'Anonymous',\n",
       "       'AssignTo', 'ServiceDate', 'ClosedDate', 'AddressVerified',\n",
       "       'ApproximateAddress', 'Address', 'HouseNumber', 'Direction',\n",
       "       'StreetName', 'Suffix', 'ZipCode', 'Latitude', 'Longitude', 'Location',\n",
       "       'TBMPage', 'TBMColumn', 'TBMRow', 'APC', 'CD', 'CDMember', 'NC',\n",
       "       'NCName', 'PolicePrecinct'],\n",
       "      dtype='object')"
      ]
     },
     "execution_count": 6,
     "metadata": {},
     "output_type": "execute_result"
    }
   ],
   "source": [
    "df = pd.read_csv(\"all_data.csv\")\n",
    "df.columns"
   ]
  },
  {
   "cell_type": "code",
   "execution_count": 12,
   "metadata": {},
   "outputs": [
    {
     "name": "stdout",
     "output_type": "stream",
     "text": [
      "<class 'pandas.core.frame.DataFrame'>\n",
      "RangeIndex: 3294119 entries, 0 to 3294118\n",
      "Data columns (total 33 columns):\n",
      "SRNumber              object\n",
      "CreatedDate           object\n",
      "UpdatedDate           object\n",
      "ActionTaken           object\n",
      "Owner                 object\n",
      "RequestType           object\n",
      "Status                object\n",
      "RequestSource         object\n",
      "MobileOS              object\n",
      "Anonymous             object\n",
      "AssignTo              object\n",
      "ServiceDate           object\n",
      "ClosedDate            object\n",
      "AddressVerified       object\n",
      "ApproximateAddress    object\n",
      "Address               object\n",
      "HouseNumber           float64\n",
      "Direction             object\n",
      "StreetName            object\n",
      "Suffix                object\n",
      "ZipCode               object\n",
      "Latitude              float64\n",
      "Longitude             float64\n",
      "Location              object\n",
      "TBMPage               float64\n",
      "TBMColumn             object\n",
      "TBMRow                float64\n",
      "APC                   object\n",
      "CD                    float64\n",
      "CDMember              object\n",
      "NC                    float64\n",
      "NCName                object\n",
      "PolicePrecinct        object\n",
      "dtypes: float64(7), object(26)\n",
      "memory usage: 829.4+ MB\n"
     ]
    }
   ],
   "source": [
    "df.info()"
   ]
  },
  {
   "cell_type": "code",
   "execution_count": 11,
   "metadata": {},
   "outputs": [
    {
     "name": "stdout",
     "output_type": "stream",
     "text": [
      "SRNumber                                   1-88224921\n",
      "CreatedDate                    01/01/2016 08:15:00 AM\n",
      "UpdatedDate                    01/02/2016 07:19:00 AM\n",
      "ActionTaken                                SR Created\n",
      "Owner                                             BOS\n",
      "RequestType                       Dead Animal Removal\n",
      "Status                                         Closed\n",
      "RequestSource                                    Call\n",
      "MobileOS                                          NaN\n",
      "Anonymous                                           Y\n",
      "AssignTo                                           NC\n",
      "ServiceDate                                       NaN\n",
      "ClosedDate                     01/02/2016 07:19:00 AM\n",
      "AddressVerified                                     Y\n",
      "ApproximateAddress                                  N\n",
      "Address                   1625 N GLENDALE BLVD, 90026\n",
      "HouseNumber                                      1625\n",
      "Direction                                           N\n",
      "StreetName                                   GLENDALE\n",
      "Suffix                                           BLVD\n",
      "ZipCode                                         90026\n",
      "Latitude                                      34.0845\n",
      "Longitude                                     -118.26\n",
      "Location              (34.0844988814, -118.260274626)\n",
      "TBMPage                                           594\n",
      "TBMColumn                                           E\n",
      "TBMRow                                              6\n",
      "APC                              East Los Angeles APC\n",
      "CD                                                 13\n",
      "CDMember                              Mitch O'Farrell\n",
      "NC                                                 44\n",
      "NCName                   GREATER ECHO PARK ELYSIAN NC\n",
      "PolicePrecinct                              NORTHEAST\n",
      "Name: 1, dtype: object\n"
     ]
    }
   ],
   "source": [
    "print(all_data.iloc[2])"
   ]
  },
  {
   "cell_type": "code",
   "execution_count": null,
   "metadata": {},
   "outputs": [],
   "source": []
  },
  {
   "cell_type": "code",
   "execution_count": null,
   "metadata": {},
   "outputs": [],
   "source": []
  },
  {
   "cell_type": "code",
   "execution_count": null,
   "metadata": {},
   "outputs": [],
   "source": []
  }
 ],
 "metadata": {
  "kernelspec": {
   "display_name": "Python 3",
   "language": "python",
   "name": "python3"
  },
  "language_info": {
   "codemirror_mode": {
    "name": "ipython",
    "version": 3
   },
   "file_extension": ".py",
   "mimetype": "text/x-python",
   "name": "python",
   "nbconvert_exporter": "python",
   "pygments_lexer": "ipython3",
   "version": "3.7.4"
  }
 },
 "nbformat": 4,
 "nbformat_minor": 2
}
